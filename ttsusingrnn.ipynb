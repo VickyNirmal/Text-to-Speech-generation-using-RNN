{
 "cells": [
  {
   "cell_type": "code",
   "execution_count": 1,
   "id": "62531213-2a1f-4625-9516-aeb6233f9028",
   "metadata": {},
   "outputs": [],
   "source": [
    "import pyttsx3"
   ]
  },
  {
   "cell_type": "code",
   "execution_count": 2,
   "id": "1570ff2a-cb3e-45fe-9e5b-a0764c1820b0",
   "metadata": {},
   "outputs": [],
   "source": [
    "text_speech = pyttsx3.init()"
   ]
  },
  {
   "cell_type": "code",
   "execution_count": null,
   "id": "4725c678-5d0a-40fb-914a-157f626627d6",
   "metadata": {},
   "outputs": [],
   "source": [
    "answer = input(\"What you want to convert to speech? \")\n",
    "rate = text_speech.getProperty('rate')\n",
    "text_speech.setProperty('rate',rate-100)\n",
    "voices = text_speech.getProperty('voices')\n",
    "for voice in voices :\n",
    "    text_speech.setProperty('voice',voice.id)\n",
    "\n",
    "\n",
    "text_speech.say(answer)\n",
    "text_speech.runAndWait() "
   ]
  },
  {
   "cell_type": "code",
   "execution_count": null,
   "id": "aa5f2d50-085b-4952-bc7e-43088527df81",
   "metadata": {},
   "outputs": [],
   "source": []
  }
 ],
 "metadata": {
  "kernelspec": {
   "display_name": "Python 3 (ipykernel)",
   "language": "python",
   "name": "python3"
  },
  "language_info": {
   "codemirror_mode": {
    "name": "ipython",
    "version": 3
   },
   "file_extension": ".py",
   "mimetype": "text/x-python",
   "name": "python",
   "nbconvert_exporter": "python",
   "pygments_lexer": "ipython3",
   "version": "3.12.2"
  }
 },
 "nbformat": 4,
 "nbformat_minor": 5
}
